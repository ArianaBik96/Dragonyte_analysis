{
 "cells": [
  {
   "cell_type": "code",
   "execution_count": 6,
   "metadata": {},
   "outputs": [],
   "source": [
    "import csv\n",
    "\n",
    "def transpose_csv_and_delete(input_file, output_file):\n",
    "    with open(input_file, 'r') as f_in:\n",
    "        reader = csv.reader(f_in, delimiter=';')\n",
    "        data = list(reader)\n",
    "\n",
    "    # Extract headers\n",
    "    headers = []\n",
    "    for row in data:\n",
    "        headers.extend([cell.strip() for cell in row if cell.strip()])\n",
    "\n",
    "    # Remove empty strings and duplicate headers\n",
    "    headers = list(dict.fromkeys(headers))\n",
    "\n",
    "    # Transpose the data\n",
    "    transposed_data = []\n",
    "    for i in range(len(data[0])):\n",
    "        transposed_row = []\n",
    "        for row in data:\n",
    "            cell = row[i].strip() if i < len(row) else ''\n",
    "            transposed_row.append(cell)\n",
    "        transposed_data.append(transposed_row)\n",
    "\n",
    "    # Filter out rows with id = 0 and exclude the third column\n",
    "    filtered_data = [[row[0], row[1], *row[3:]] for row in transposed_data if row[0] != '0']\n",
    "\n",
    "    # Write the transposed and filtered data to a new CSV file\n",
    "    with open(output_file, 'w', newline='') as f_out:\n",
    "        writer = csv.writer(f_out)\n",
    "        writer.writerow(headers[:2] + headers[3:])  # Exclude the third header\n",
    "        writer.writerows(filtered_data)\n",
    "\n",
    "# Replace 'Locations.csv' and 'Locations_.csv' with your file names\n",
    "input_file = 'Locations.csv'\n",
    "output_file = 'Locations_.csv'\n",
    "\n",
    "transpose_csv_and_delete(input_file, output_file)"
   ]
  }
 ],
 "metadata": {
  "kernelspec": {
   "display_name": "Python 3",
   "language": "python",
   "name": "python3"
  },
  "language_info": {
   "codemirror_mode": {
    "name": "ipython",
    "version": 3
   },
   "file_extension": ".py",
   "mimetype": "text/x-python",
   "name": "python",
   "nbconvert_exporter": "python",
   "pygments_lexer": "ipython3",
   "version": "3.12.3"
  }
 },
 "nbformat": 4,
 "nbformat_minor": 2
}
